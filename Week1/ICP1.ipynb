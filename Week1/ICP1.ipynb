{
  "nbformat": 4,
  "nbformat_minor": 0,
  "metadata": {
    "colab": {
      "provenance": [],
      "authorship_tag": "ABX9TyNv8UlkONsvCCzWISW21RiX",
      "include_colab_link": true
    },
    "kernelspec": {
      "name": "python3",
      "display_name": "Python 3"
    },
    "language_info": {
      "name": "python"
    }
  },
  "cells": [
    {
      "cell_type": "markdown",
      "metadata": {
        "id": "view-in-github",
        "colab_type": "text"
      },
      "source": [
        "<a href=\"https://colab.research.google.com/github/HaripriyaVennam/Neural-Networks-and-Deep-Learning/blob/main/Week1/ICP1.ipynb\" target=\"_parent\"><img src=\"https://colab.research.google.com/assets/colab-badge.svg\" alt=\"Open In Colab\"/></a>"
      ]
    },
    {
      "cell_type": "code",
      "execution_count": 15,
      "metadata": {
        "colab": {
          "base_uri": "https://localhost:8080/"
        },
        "id": "VDBHnylTKgNB",
        "outputId": "60530892-56d8-4e12-880f-ea1cfd7f3662"
      },
      "outputs": [
        {
          "output_type": "stream",
          "name": "stdout",
          "text": [
            "Enter your first name: Haripriya\n",
            "Enter your last name: Vennam\n",
            "Full name: Haripriya Vennam\n",
            "String with alternate characters: Hrpia Vna\n"
          ]
        }
      ],
      "source": [
        "# Function to concatenate first name and last name\n",
        "def fullname(first_name, last_name):\n",
        "    return f\"{first_name} {last_name}\"\n",
        "\n",
        "# Function to return every alternate character in the string\n",
        "def string_alternative(input_str):\n",
        "    return input_str[::2]\n",
        "\n",
        "# Main function\n",
        "def main():\n",
        "    # Input from the user\n",
        "    first_name = input(\"Enter your first name: \")\n",
        "    last_name = input(\"Enter your last name: \")\n",
        "\n",
        "    # Generating the full name\n",
        "    full_name = fullname(first_name, last_name)\n",
        "    print(\"Full name:\", full_name)\n",
        "\n",
        "    # Generating the string with alternate characters for first name and last name separately\n",
        "    alt_first_name = string_alternative(first_name)\n",
        "    alt_last_name = string_alternative(last_name)\n",
        "\n",
        "    # Print alternate characters with space between first and last names\n",
        "    print(\"String with alternate characters:\", alt_first_name + \" \" + alt_last_name)\n",
        "\n",
        "# Call the main function\n",
        "if __name__ == \"__main__\":\n",
        "    main()\n"
      ]
    },
    {
      "cell_type": "code",
      "source": [
        "from collections import Counter\n",
        "\n",
        "def word_count_in_file(input_file, output_file):\n",
        "    try:\n",
        "        # Read the contents of the file\n",
        "        with open(input_file, 'r') as infile:\n",
        "            lines = infile.readlines()\n",
        "\n",
        "        # Display the contents of the file\n",
        "        print(\"File Content:\")\n",
        "        for line in lines:\n",
        "            print(line.strip())\n",
        "\n",
        "        # Count all the words across all lines\n",
        "        word_counter = Counter()\n",
        "        for line in lines:\n",
        "            words = line.split()\n",
        "            word_counter.update(words)\n",
        "\n",
        "        # Write results to the output file and display on console\n",
        "        with open(output_file, 'w') as outfile:\n",
        "            outfile.write(\"Word_Count:\\n\")\n",
        "            print(\"\\nWord_Count:\")\n",
        "            for word, count in word_counter.items():\n",
        "                result_line = f\"{word}: {count}\\n\"\n",
        "                print(result_line.strip())\n",
        "                outfile.write(result_line)\n",
        "\n",
        "        print(f\"\\nResults have been saved to {output_file}.\")\n",
        "    except FileNotFoundError:\n",
        "        print(f\"Error: The file {input_file} does not exist.\")\n",
        "    except Exception as e:\n",
        "        print(f\"An unexpected error occurred: {e}\")\n",
        "\n",
        "# Define the input and output file names\n",
        "input_filename = 'input.txt'\n",
        "output_filename = 'output.txt'\n",
        "\n",
        "# Call the function\n",
        "word_count_in_file(input_filename, output_filename)\n"
      ],
      "metadata": {
        "colab": {
          "base_uri": "https://localhost:8080/"
        },
        "id": "80-V6BXGMa02",
        "outputId": "4d8587d5-9a70-4c53-ea16-cb4764f821ac"
      },
      "execution_count": 16,
      "outputs": [
        {
          "output_type": "stream",
          "name": "stdout",
          "text": [
            "File Content:\n",
            "Python Course\n",
            "Deep Learning Course\n",
            "\n",
            "Word_Count:\n",
            "Python: 1\n",
            "Course: 2\n",
            "Deep: 1\n",
            "Learning: 1\n",
            "\n",
            "Results have been saved to output.txt.\n"
          ]
        }
      ]
    },
    {
      "cell_type": "code",
      "source": [
        "# Function using nested interactive loop\n",
        "def convert_to_centimeters_nested_loop(heights_in_inches):\n",
        "    heights_in_cm = []\n",
        "    for height in heights_in_inches:\n",
        "        cm = height * 2.54  # Conversion factor\n",
        "        heights_in_cm.append(round(cm, 2))\n",
        "    return heights_in_cm\n",
        "\n",
        "# Function using list comprehension\n",
        "def convert_to_centimeters_list_comprehension(heights_in_inches):\n",
        "    return [round(height * 2.54, 2) for height in heights_in_inches]\n",
        "\n",
        "# Main function\n",
        "def main():\n",
        "    # Take the input as a list of heights in inches\n",
        "    heights_in_inches = list(map(int, input(\"Enter the heights in inches (space separated): \").split()))\n",
        "\n",
        "    # Convert heights using nested loop\n",
        "    heights_in_cm_loop = convert_to_centimeters_nested_loop(heights_in_inches)\n",
        "    print(\"Heights converted to centimeters using nested loop:\", heights_in_cm_loop)\n",
        "\n",
        "    # Convert heights using list comprehension\n",
        "    heights_in_cm_comprehension = convert_to_centimeters_list_comprehension(heights_in_inches)\n",
        "    print(\"Heights converted to centimeters using list comprehension:\", heights_in_cm_comprehension)\n",
        "\n",
        "# Call the main function\n",
        "if __name__ == \"__main__\":\n",
        "    main()\n"
      ],
      "metadata": {
        "colab": {
          "base_uri": "https://localhost:8080/"
        },
        "id": "qDjqPr3jQqBm",
        "outputId": "b9fb4c68-9cd5-457f-c663-a91044f4d4c5"
      },
      "execution_count": 8,
      "outputs": [
        {
          "output_type": "stream",
          "name": "stdout",
          "text": [
            "Enter the heights in inches (space separated): 150 155 145 148\n",
            "Heights converted to centimeters using nested loop: [381.0, 393.7, 368.3, 375.92]\n",
            "Heights converted to centimeters using list comprehension: [381.0, 393.7, 368.3, 375.92]\n"
          ]
        }
      ]
    },
    {
      "cell_type": "code",
      "source": [],
      "metadata": {
        "id": "6PcvAjTaVg4k"
      },
      "execution_count": 8,
      "outputs": []
    }
  ]
}