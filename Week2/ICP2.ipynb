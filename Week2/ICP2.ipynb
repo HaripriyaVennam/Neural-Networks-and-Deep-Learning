{
  "nbformat": 4,
  "nbformat_minor": 0,
  "metadata": {
    "colab": {
      "provenance": [],
      "authorship_tag": "ABX9TyOCy7zsEvcKbZTQ/LpCjT6V",
      "include_colab_link": true
    },
    "kernelspec": {
      "name": "python3",
      "display_name": "Python 3"
    },
    "language_info": {
      "name": "python"
    }
  },
  "cells": [
    {
      "cell_type": "markdown",
      "metadata": {
        "id": "view-in-github",
        "colab_type": "text"
      },
      "source": [
        "<a href=\"https://colab.research.google.com/github/HaripriyaVennam/Neural-Networks-and-Deep-Learning/blob/main/Week2/ICP2.ipynb\" target=\"_parent\"><img src=\"https://colab.research.google.com/assets/colab-badge.svg\" alt=\"Open In Colab\"/></a>"
      ]
    },
    {
      "cell_type": "code",
      "execution_count": 1,
      "metadata": {
        "colab": {
          "base_uri": "https://localhost:8080/"
        },
        "id": "A-LyMIvIbqDE",
        "outputId": "c716a4d6-1c36-4756-fa58-85075d7ae7b9"
      },
      "outputs": [
        {
          "output_type": "stream",
          "name": "stdout",
          "text": [
            "Employee Details:\n",
            "Name: Ria, Family: Sharma, Salary: 70000, Department: HR\n",
            "Name: Prem, Family: Kiran, Salary: 80000, Department: Finance\n",
            "Name: Sai, Family: Kumar, Salary: 90000, Department: Doctor\n",
            "\n",
            "Total number of employees: 3\n",
            "Average salary of employees: 80000.00\n"
          ]
        }
      ],
      "source": [
        "# Define the Employee class\n",
        "class Employee:\n",
        "    # data member to count the number of employees\n",
        "    employee_count = 0\n",
        "\n",
        "    # Constructor to initialize the employee's details like name, family, salary, department\n",
        "    def __init__(self, name, family, salary, department):\n",
        "        self.name = name\n",
        "        self.family = family\n",
        "        self.salary = salary\n",
        "        self.department = department\n",
        "        Employee.employee_count += 1  # Increment employee count when a new object is created\n",
        "\n",
        "    # Method to calculate the average salary of employees\n",
        "    @staticmethod\n",
        "    def average_salary(employee_list):\n",
        "        total_salary = sum(emp.salary for emp in employee_list)\n",
        "        return total_salary / len(employee_list) if employee_list else 0\n",
        "\n",
        "# Define the FulltimeEmployee class, inheriting from Employee class\n",
        "class FulltimeEmployee(Employee):\n",
        "    def __init__(self, name, family, salary, department):\n",
        "        # Use the constructor of the parent class\n",
        "        super().__init__(name, family, salary, department)\n",
        "\n",
        "# Main function\n",
        "def main():\n",
        "    # Create instances of Employee\n",
        "    emp1 = Employee(\"Ria\", \"Sharma\", 70000, \"HR\")\n",
        "    emp2 = Employee(\"Prem\", \"Kiran\", 80000, \"Finance\")\n",
        "\n",
        "    # Create instances of FulltimeEmployee\n",
        "    fe1 = FulltimeEmployee(\"Sai\", \"Kumar\", 90000, \"Doctor\")\n",
        "\n",
        "    # List of all employees\n",
        "    all_employees = [emp1, emp2, fe1]\n",
        "\n",
        "    # Print details of each employee\n",
        "    print(\"Employee Details:\")\n",
        "    for emp in all_employees:\n",
        "        print(f\"Name: {emp.name}, Family: {emp.family}, Salary: {emp.salary}, Department: {emp.department}\")\n",
        "\n",
        "    # Print total number of employees\n",
        "    print(f\"\\nTotal number of employees: {Employee.employee_count}\")\n",
        "\n",
        "    # Calculate and print the average salary\n",
        "    avg_salary = Employee.average_salary(all_employees)\n",
        "    print(f\"Average salary of employees: {avg_salary:.2f}\")\n",
        "\n",
        "# Run the main function\n",
        "if __name__ == \"__main__\":\n",
        "    main()\n"
      ]
    },
    {
      "cell_type": "code",
      "source": [
        "import numpy as np\n",
        "\n",
        "# Step 1: Create a random vector of size 20 with floats in the range 1-20\n",
        "random_vector = np.random.uniform(1, 20, 20)\n",
        "\n",
        "# Step 2: Reshape the array to a 4x5 matrix\n",
        "matrix = random_vector.reshape(4, 5)\n",
        "\n",
        "# Print the matrix before modification\n",
        "print(\"Original Matrix:\\n\", matrix)\n",
        "\n",
        "# Step 3: Replace the maximum value in each row with 0 (without using a for loop)\n",
        "# Find the indices of the maximum value in each row\n",
        "max_indices = np.argmax(matrix, axis=1)\n",
        "\n",
        "# Use advanced indexing to set the maximum values to 0\n",
        "matrix[np.arange(matrix.shape[0]), max_indices] = 0\n",
        "\n",
        "# Print the resulting matrix\n",
        "print(\"Modified Matrix:\\n\", matrix)\n"
      ],
      "metadata": {
        "colab": {
          "base_uri": "https://localhost:8080/"
        },
        "id": "orgYiU8kbrTb",
        "outputId": "0c7c3a09-4fa6-4dbc-bd0b-69f63073f734"
      },
      "execution_count": 2,
      "outputs": [
        {
          "output_type": "stream",
          "name": "stdout",
          "text": [
            "Original Matrix:\n",
            " [[12.81552882 17.43218139 18.08612068  2.36754914 19.50334951]\n",
            " [ 2.92515887  2.22675603 19.19909043 19.76961692 17.34315546]\n",
            " [ 2.91834354 12.98322743 15.54948475  1.23255186 17.00892621]\n",
            " [ 2.91730177  9.42467147  8.32388451  6.16689234  6.81599094]]\n",
            "Modified Matrix:\n",
            " [[12.81552882 17.43218139 18.08612068  2.36754914  0.        ]\n",
            " [ 2.92515887  2.22675603 19.19909043  0.         17.34315546]\n",
            " [ 2.91834354 12.98322743 15.54948475  1.23255186  0.        ]\n",
            " [ 2.91730177  0.          8.32388451  6.16689234  6.81599094]]\n"
          ]
        }
      ]
    },
    {
      "cell_type": "code",
      "source": [],
      "metadata": {
        "id": "6GtOyHQ1b2HN"
      },
      "execution_count": null,
      "outputs": []
    },
    {
      "cell_type": "markdown",
      "source": [
        "https://drive.google.com/file/d/1b5e1U-IquLRa8XrxBdO6uAqWvHh64Ia8/view?usp=drive_link"
      ],
      "metadata": {
        "id": "bPzDnXgycG9a"
      }
    }
  ]
}