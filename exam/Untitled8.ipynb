{
  "nbformat": 4,
  "nbformat_minor": 0,
  "metadata": {
    "colab": {
      "provenance": [],
      "gpuType": "T4",
      "authorship_tag": "ABX9TyO/oVn1T7Mti+Xdf/A0Bu8B",
      "include_colab_link": true
    },
    "kernelspec": {
      "name": "python3",
      "display_name": "Python 3"
    },
    "language_info": {
      "name": "python"
    },
    "accelerator": "GPU"
  },
  "cells": [
    {
      "cell_type": "markdown",
      "metadata": {
        "id": "view-in-github",
        "colab_type": "text"
      },
      "source": [
        "<a href=\"https://colab.research.google.com/github/HaripriyaVennam/Neural-Networks-and-Deep-Learning/blob/main/exam/Untitled8.ipynb\" target=\"_parent\"><img src=\"https://colab.research.google.com/assets/colab-badge.svg\" alt=\"Open In Colab\"/></a>"
      ]
    },
    {
      "cell_type": "code",
      "execution_count": 1,
      "metadata": {
        "id": "vang7JZ0jC2L"
      },
      "outputs": [],
      "source": [
        "import numpy as np\n",
        "import matplotlib.pyplot as plt\n",
        "import seaborn as sns\n",
        "from sklearn.metrics import confusion_matrix, precision_recall_curve, roc_curve, auc\n",
        "from tensorflow.keras.datasets import cifar10\n",
        "from tensorflow.keras.models import Sequential\n",
        "from tensorflow.keras.layers import Conv2D, MaxPooling2D, Flatten, Dense, Dropout\n",
        "from tensorflow.keras.optimizers import Adam, SGD\n",
        "from tensorflow.keras.callbacks import ReduceLROnPlateau\n",
        "from sklearn.model_selection import GridSearchCV\n",
        "from sklearn.base import BaseEstimator, ClassifierMixin\n"
      ]
    },
    {
      "cell_type": "code",
      "source": [
        "# Load the CIFAR-10 dataset\n",
        "(x_train, y_train), (x_test, y_test) = cifar10.load_data()\n",
        "\n",
        "# Normalize the data to be in the range [0, 1]\n",
        "x_train, x_test = x_train / 255.0, x_test / 255.0\n",
        "\n",
        "# Define number of classes\n",
        "num_classes = 10\n"
      ],
      "metadata": {
        "colab": {
          "base_uri": "https://localhost:8080/"
        },
        "id": "kxy-m_Dmoye7",
        "outputId": "a35687da-8fc8-4501-eec5-2b755f9a0c81"
      },
      "execution_count": 2,
      "outputs": [
        {
          "output_type": "stream",
          "name": "stdout",
          "text": [
            "Downloading data from https://www.cs.toronto.edu/~kriz/cifar-10-python.tar.gz\n",
            "\u001b[1m170498071/170498071\u001b[0m \u001b[32m━━━━━━━━━━━━━━━━━━━━\u001b[0m\u001b[37m\u001b[0m \u001b[1m6s\u001b[0m 0us/step\n"
          ]
        }
      ]
    },
    {
      "cell_type": "code",
      "source": [
        "from tensorflow.keras.layers import Input\n",
        "\n",
        "# Function to create the CNN model\n",
        "def create_cnn_model(optimizer='adam', learning_rate=0.001):\n",
        "    model = Sequential([\n",
        "        Input(shape=(32, 32, 3)),  # Specify input shape using the Input layer\n",
        "        Conv2D(32, (3, 3), activation='relu'),\n",
        "        MaxPooling2D((2, 2)),\n",
        "        Conv2D(64, (3, 3), activation='relu'),\n",
        "        MaxPooling2D((2, 2)),\n",
        "        Conv2D(64, (3, 3), activation='relu'),\n",
        "        Flatten(),\n",
        "        Dense(64, activation='relu'),\n",
        "        Dropout(0.5),\n",
        "        Dense(num_classes, activation='softmax')\n",
        "    ])\n",
        "    model.compile(optimizer=optimizer(learning_rate=learning_rate),\n",
        "                  loss='sparse_categorical_crossentropy',\n",
        "                  metrics=['accuracy'])\n",
        "    return model\n"
      ],
      "metadata": {
        "id": "wFeciDdnoybY"
      },
      "execution_count": 3,
      "outputs": []
    },
    {
      "cell_type": "code",
      "source": [
        "class KerasModelWrapper(BaseEstimator, ClassifierMixin):\n",
        "    def __init__(self, optimizer='adam', learning_rate=0.001):\n",
        "        self.optimizer = optimizer\n",
        "        self.learning_rate = learning_rate\n",
        "\n",
        "    def fit(self, X, y):\n",
        "        self.model = create_cnn_model(self.optimizer, self.learning_rate)\n",
        "        self.model.fit(X, y, epochs=10, batch_size=64, verbose=0, validation_split=0.1)\n",
        "        return self\n",
        "\n",
        "    def predict(self, X):\n",
        "        return np.argmax(self.model.predict(X), axis=-1)\n",
        "\n",
        "    def score(self, X, y):\n",
        "        return self.model.evaluate(X, y, verbose=0)[1]  # Return accuracy\n",
        "\n",
        "# Wrapper for GridSearchCV\n",
        "model = KerasModelWrapper()\n"
      ],
      "metadata": {
        "id": "iZioDfWkoyZS"
      },
      "execution_count": 4,
      "outputs": []
    },
    {
      "cell_type": "code",
      "source": [
        "param_grid = {\n",
        "    'optimizer': [Adam, SGD],\n",
        "    'learning_rate': [0.001, 0.01],\n",
        "}\n"
      ],
      "metadata": {
        "id": "2q0aVuSDoyWg"
      },
      "execution_count": 5,
      "outputs": []
    },
    {
      "cell_type": "code",
      "source": [
        "from sklearn.model_selection import RandomizedSearchCV\n",
        "\n",
        "# Define the parameter grid\n",
        "param_grid = {\n",
        "    'optimizer': [Adam],  # Start with just Adam optimizer for faster testing\n",
        "    'learning_rate': [0.001, 0.01],  # Smaller set of learning rates\n",
        "}\n",
        "\n",
        "# Use RandomizedSearchCV for faster search (less exhaustive)\n",
        "random_search = RandomizedSearchCV(estimator=model, param_distributions=param_grid,\n",
        "                                   n_iter=2, cv=2, n_jobs=-1, verbose=1, random_state=42)\n",
        "random_search_result = random_search.fit(x_train, y_train)\n",
        "\n",
        "# Best Parameters from Randomized Search\n",
        "print(f\"Best Parameters: {random_search_result.best_params_}\")\n",
        "print(f\"Best Validation Accuracy: {random_search_result.best_score_}\")\n",
        "\n",
        "# Get the best model\n",
        "best_model = random_search_result.best_estimator_\n"
      ],
      "metadata": {
        "colab": {
          "base_uri": "https://localhost:8080/"
        },
        "id": "aOD-BGWCoyUE",
        "outputId": "9a7b6076-a9cd-44cc-cc7d-768e05dd30f5"
      },
      "execution_count": null,
      "outputs": [
        {
          "output_type": "stream",
          "name": "stdout",
          "text": [
            "Fitting 2 folds for each of 2 candidates, totalling 4 fits\n"
          ]
        }
      ]
    },
    {
      "cell_type": "code",
      "source": [
        "# Callback for ReduceLROnPlateau to reduce learning rate based on validation loss\n",
        "reduce_lr = ReduceLROnPlateau(monitor='val_loss', factor=0.5, patience=3, min_lr=0.00001)\n",
        "\n",
        "# Fit the best model with the callback\n",
        "history = best_model.fit(x_train, y_train, epochs=10, batch_size=64, validation_data=(x_test, y_test), callbacks=[reduce_lr])\n"
      ],
      "metadata": {
        "id": "qg_3gnPur9o4"
      },
      "execution_count": null,
      "outputs": []
    },
    {
      "cell_type": "code",
      "source": [
        "# Create subplots for Loss and Accuracy\n",
        "fig, axes = plt.subplots(1, 2, figsize=(14, 6))\n",
        "\n",
        "# Plot Training and Validation Loss\n",
        "axes[0].plot(history.history['loss'], label='Training Loss')\n",
        "axes[0].plot(history.history['val_loss'], label='Validation Loss')\n",
        "axes[0].set_title('Training and Validation Loss')\n",
        "axes[0].set_xlabel('Epochs')\n",
        "axes[0].set_ylabel('Loss')\n",
        "axes[0].legend()\n",
        "\n",
        "# Plot Training and Validation Accuracy\n",
        "axes[1].plot(history.history['accuracy'], label='Training Accuracy')\n",
        "axes[1].plot(history.history['val_accuracy'], label='Validation Accuracy')\n",
        "axes[1].set_title('Training and Validation Accuracy')\n",
        "axes[1].set_xlabel('Epochs')\n",
        "axes[1].set_ylabel('Accuracy')\n",
        "axes[1].legend()\n",
        "\n",
        "plt.tight_layout()\n",
        "plt.show()\n"
      ],
      "metadata": {
        "id": "ilvSrHGpr9lu"
      },
      "execution_count": null,
      "outputs": []
    },
    {
      "cell_type": "code",
      "source": [
        "# Make predictions on the test data\n",
        "y_pred = best_model.predict(x_test)\n",
        "y_pred_classes = np.argmax(y_pred, axis=1)\n",
        "\n",
        "# Compute the confusion matrix\n",
        "cm = confusion_matrix(y_test, y_pred_classes)\n",
        "\n",
        "# Plot the confusion matrix\n",
        "plt.figure(figsize=(10, 7))\n",
        "sns.heatmap(cm, annot=True, fmt='d', cmap='Blues', xticklabels=np.arange(10), yticklabels=np.arange(10))\n",
        "plt.title('Confusion Matrix')\n",
        "plt.xlabel('Predicted')\n",
        "plt.ylabel('True')\n",
        "plt.show()\n"
      ],
      "metadata": {
        "id": "y85NmKxVr9i4"
      },
      "execution_count": null,
      "outputs": []
    },
    {
      "cell_type": "code",
      "source": [
        "# Compute Precision-Recall curve\n",
        "precision, recall, _ = precision_recall_curve(y_test, y_pred_classes)\n",
        "\n",
        "# Plot Precision-Recall curve\n",
        "plt.figure(figsize=(8, 6))\n",
        "plt.plot(recall, precision, marker='.')\n",
        "plt.title('Precision-Recall Curve')\n",
        "plt.xlabel('Recall')\n",
        "plt.ylabel('Precision')\n",
        "plt.show()\n"
      ],
      "metadata": {
        "id": "wGlXRtMcr9f7"
      },
      "execution_count": null,
      "outputs": []
    },
    {
      "cell_type": "code",
      "source": [
        "# Compute ROC curve and AUC for one-vs-rest classification\n",
        "fpr, tpr, _ = roc_curve(y_test, y_pred[:, 1])  # Using binary classification for simplicity (one-vs-rest)\n",
        "roc_auc = auc(fpr, tpr)\n",
        "\n",
        "# Plot ROC curve\n",
        "plt.figure(figsize=(8, 6))\n",
        "plt.plot(fpr, tpr, color='darkorange', lw=2, label='ROC curve (area = %0.2f)' % roc_auc)\n",
        "plt.plot([0, 1], [0, 1], color='navy', lw=2, linestyle='--')\n",
        "plt.title('Receiver Operating Characteristic (ROC) Curve')\n",
        "plt.xlabel('False Positive Rate')\n",
        "plt.ylabel('True Positive Rate')\n",
        "plt.legend(loc='lower right')\n",
        "plt.show()\n"
      ],
      "metadata": {
        "id": "mT3HK6ohr9dV"
      },
      "execution_count": null,
      "outputs": []
    },
    {
      "cell_type": "markdown",
      "source": [
        "Explanation of Key Steps Leading to Improved Model Performance:\n",
        "Callback (ReduceLROnPlateau): By automatically reducing the learning rate when validation loss plateaus, the model is able to make finer adjustments and avoid overshooting the optimal solution.\n",
        "\n",
        "Grid Search for Hyperparameter Optimization: By tuning the optimizer (Adam vs. SGD) and learning rate, we ensure that the model trains with the optimal settings, helping to achieve better accuracy and reduced validation loss.\n",
        "\n",
        "Model Architecture: A convolutional neural network (CNN) was chosen to handle image data, where convolution layers extract important features from the images. Dropout was added to prevent overfitting.\n",
        "\n",
        "Confusion Matrix: This visualization provided a clear understanding of which classes the model was misclassifying, helping to identify areas for improvement in future models.\n",
        "\n",
        "Precision-Recall and ROC Curves: These visualizations provide more granular performance metrics, especially useful for understanding the model’s behavior for each class, beyond accuracy."
      ],
      "metadata": {
        "id": "XmAKUPBdtoax"
      }
    },
    {
      "cell_type": "code",
      "source": [],
      "metadata": {
        "id": "_DvBgEymr9a0"
      },
      "execution_count": null,
      "outputs": []
    },
    {
      "cell_type": "code",
      "source": [],
      "metadata": {
        "id": "-ijkUV6Jr9X_"
      },
      "execution_count": null,
      "outputs": []
    },
    {
      "cell_type": "code",
      "source": [],
      "metadata": {
        "id": "lyuv_SU8nGvP"
      },
      "execution_count": null,
      "outputs": []
    }
  ]
}